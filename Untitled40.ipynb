{
  "nbformat": 4,
  "nbformat_minor": 0,
  "metadata": {
    "colab": {
      "provenance": [],
      "authorship_tag": "ABX9TyMW7PwqZUn8OP8LPwClW++8",
      "include_colab_link": true
    },
    "kernelspec": {
      "name": "python3",
      "display_name": "Python 3"
    },
    "language_info": {
      "name": "python"
    }
  },
  "cells": [
    {
      "cell_type": "markdown",
      "metadata": {
        "id": "view-in-github",
        "colab_type": "text"
      },
      "source": [
        "<a href=\"https://colab.research.google.com/github/Anishasahayaraj/GLM-project/blob/main/Untitled40.ipynb\" target=\"_parent\"><img src=\"https://colab.research.google.com/assets/colab-badge.svg\" alt=\"Open In Colab\"/></a>"
      ]
    },
    {
      "cell_type": "code",
      "source": [
        "hourly_rate = 250\n",
        "overtime_rate = 100\n",
        "standard_hours = 48\n",
        "worked_hours_per_week = 56\n",
        "\n",
        "def calculate_weekly_income(hours_worked):\n",
        "    if hours_worked > standard_hours:\n",
        "        overtime_hours = hours_worked - standard_hours\n",
        "        weekly_income = (standard_hours * hourly_rate) + (overtime_hours * (hourly_rate + overtime_rate))\n",
        "    else:\n",
        "        weekly_income = hours_worked * hourly_rate\n",
        "    return weekly_income\n",
        "\n",
        "monthly_income = 0\n",
        "print(\"Weekly Pay Details (Monthly Calculation):\")\n",
        "for week in range(1, 5):\n",
        "    weekly_income = calculate_weekly_income(worked_hours_per_week)\n",
        "    print(f\"Week {week} Income: ₹{weekly_income}\")\n",
        "    monthly_income += weekly_income\n",
        "\n",
        "annual_income = 0\n",
        "for week in range(1, 53):\n",
        "    annual_income += calculate_weekly_income(worked_hours_per_week)\n",
        "\n",
        "print(\"\\n--- Summary ---\")\n",
        "print(f\"Total Monthly Income: ₹{monthly_income}\")\n",
        "print(f\"Total Annual Income: ₹{annual_income}\")\n"
      ],
      "metadata": {
        "colab": {
          "base_uri": "https://localhost:8080/"
        },
        "id": "IfL-kbK2Jspq",
        "outputId": "d3ab759d-75a8-4fdc-82fb-49f59b5ffb09"
      },
      "execution_count": 2,
      "outputs": [
        {
          "output_type": "stream",
          "name": "stdout",
          "text": [
            "Weekly Pay Details (Monthly Calculation):\n",
            "Week 1 Income: ₹14800\n",
            "Week 2 Income: ₹14800\n",
            "Week 3 Income: ₹14800\n",
            "Week 4 Income: ₹14800\n",
            "\n",
            "--- Summary ---\n",
            "Total Monthly Income: ₹59200\n",
            "Total Annual Income: ₹769600\n"
          ]
        }
      ]
    },
    {
      "cell_type": "code",
      "source": [
        "\n",
        "def calculate_base_bill(units):\n",
        "    if units <= 100:\n",
        "        return units * 0.50\n",
        "    elif units <= 200:\n",
        "        return (100 * 0.50) + ((units - 100) * 0.75)\n",
        "    elif units <= 300:\n",
        "        return (100 * 0.50) + (100 * 0.75) + ((units - 200) * 1.20)\n",
        "    else:\n",
        "        return (100 * 0.50) + (100 * 0.75) + (100 * 1.20) + ((units - 300) * 1.50)\n",
        "\n",
        "def get_multiplier(user_type):\n",
        "    user_type = user_type.lower()\n",
        "    multipliers = {\n",
        "        \"household\": 1.0,\n",
        "        \"commercial\": 2.0,\n",
        "        \"industrial\": 3.0,\n",
        "        \"government\": 1.5,\n",
        "        \"educational\": 1.2,\n",
        "        \"agricultural\": 0.8,\n",
        "        \"hospital\": 1.3,\n",
        "        \"it sector\": 1.7,\n",
        "        \"ngo\": 1.0\n",
        "    }\n",
        "    return multipliers.get(user_type, -1)\n",
        "\n",
        "def calculate_bill(units, user_type):\n",
        "    base_cost = calculate_base_bill(units)\n",
        "    multiplier = get_multiplier(user_type)\n",
        "    if multiplier == -1:\n",
        "        return -1\n",
        "    return base_cost * multiplier\n",
        "num_users = int(input(\"Enter number of users: \"))\n",
        "\n",
        "for i in range(num_users):\n",
        "    print(f\"\\nUser {i+1}\")\n",
        "    units = int(input(\"Enter units consumed: \"))\n",
        "    user_type = input(\"Enter user type (household/commercial/industrial/government/educational/agricultural/hospital/it sector/ngo): \")\n",
        "\n",
        "    total_bill = calculate_bill(units, user_type)\n",
        "\n",
        "    if total_bill == -1:\n",
        "        print(\" Invalid user type. Please enter a valid domain from the list.\")\n",
        "    else:\n",
        "        print(f\"User Type       : {user_type.capitalize()}\")\n",
        "        print(f\"Units Consumed  : {units}\")\n",
        "        print(f\"Total Bill      : ₹{total_bill:.2f}\")\n"
      ],
      "metadata": {
        "colab": {
          "base_uri": "https://localhost:8080/"
        },
        "id": "gg7jjPZUMkog",
        "outputId": "aa2553a6-6d7f-46bb-f710-267fa3cef43e"
      },
      "execution_count": 3,
      "outputs": [
        {
          "output_type": "stream",
          "name": "stdout",
          "text": [
            "Enter number of users: 3\n",
            "\n",
            "User 1\n",
            "Enter units consumed: 200\n",
            "Enter user type (household/commercial/industrial/government/educational/agricultural/hospital/it sector/ngo): ngo\n",
            "User Type       : Ngo\n",
            "Units Consumed  : 200\n",
            "Total Bill      : ₹125.00\n",
            "\n",
            "User 2\n",
            "Enter units consumed: 500\n",
            "Enter user type (household/commercial/industrial/government/educational/agricultural/hospital/it sector/ngo): commercial\n",
            "User Type       : Commercial\n",
            "Units Consumed  : 500\n",
            "Total Bill      : ₹1090.00\n",
            "\n",
            "User 3\n",
            "Enter units consumed: 350\n",
            "Enter user type (household/commercial/industrial/government/educational/agricultural/hospital/it sector/ngo): household\n",
            "User Type       : Household\n",
            "Units Consumed  : 350\n",
            "Total Bill      : ₹320.00\n"
          ]
        }
      ]
    },
    {
      "cell_type": "code",
      "source": [],
      "metadata": {
        "id": "j-Znu-Dhx9QC"
      },
      "execution_count": null,
      "outputs": []
    },
    {
      "cell_type": "code",
      "source": [
        "class QuizBase:\n",
        "    def __init__(self):\n",
        "        self.questions = {\n",
        "            \"What keyword is used to define a function in Python? \": \"def\",\n",
        "            \"What symbol is used for comments in Python? \": \"#\",\n",
        "            \"Which data type is used to store True or False values? \": \"boolean\",\n",
        "            \"What is the output of 2 ** 3 in Python? \": \"8\",\n",
        "            \"Which built-in function is used to get the length of a list? \": \"len\"\n",
        "        }\n",
        "        self.score = 0\n",
        "\n",
        "    def ask_questions(self):\n",
        "        for question, correct_answer in self.questions.items():\n",
        "            user_answer = input(question).strip().lower()\n",
        "            if user_answer == correct_answer:\n",
        "                self.score += 2\n",
        "                print(\"Correct! +2\")\n",
        "            else:\n",
        "                self.score -= 1\n",
        "                print(f\"Wrong! -1 (Correct answer: {correct_answer})\")\n",
        "class PythonQuiz(QuizBase):\n",
        "    def start_quiz(self):\n",
        "        print(\"Welcome to the Python Programming Quiz!\")\n",
        "        print(\"Each correct answer gives +2, each wrong answer deducts -1.\\n\")\n",
        "        self.ask_questions()\n",
        "        print(\"\\nQuiz Over.\")\n",
        "        print(f\"Your Total Score: {self.score} out of 10\")\n",
        "quiz = PythonQuiz()\n",
        "quiz.start_quiz()\n"
      ],
      "metadata": {
        "colab": {
          "base_uri": "https://localhost:8080/"
        },
        "id": "OQoBmwNWwhM1",
        "outputId": "40e4b5d5-34e5-413e-ca21-ae085e2ade9b"
      },
      "execution_count": 1,
      "outputs": [
        {
          "output_type": "stream",
          "name": "stdout",
          "text": [
            "Welcome to the Python Programming Quiz!\n",
            "Each correct answer gives +2, each wrong answer deducts -1.\n",
            "\n",
            "What keyword is used to define a function in Python? def\n",
            "Correct! +2\n",
            "What symbol is used for comments in Python? @\n",
            "Wrong! -1 (Correct answer: #)\n",
            "Which data type is used to store True or False values? boolean\n",
            "Correct! +2\n",
            "What is the output of 2 ** 3 in Python? 8\n",
            "Correct! +2\n",
            "Which built-in function is used to get the length of a list? len\n",
            "Correct! +2\n",
            "\n",
            "Quiz Over.\n",
            "Your Total Score: 7 out of 10\n"
          ]
        }
      ]
    },
    {
      "cell_type": "code",
      "source": [
        "class Employee:\n",
        "    def __init__(self, name, basic_salary):\n",
        "        self.name = name\n",
        "        self.basic = basic_salary\n",
        "\n",
        "\n",
        "class SalaryCalculator(Employee):\n",
        "\n",
        "    def calculate_allowances(self):\n",
        "        da = self.basic * 0.20\n",
        "        hra = self.basic * 0.10\n",
        "        ta = self.basic * 0.075\n",
        "        return da, hra, ta\n",
        "\n",
        "    def calculate_deductions(self):\n",
        "        pf = self.basic * 0.12\n",
        "        emi = self.basic * 0.02\n",
        "        return pf, emi\n",
        "\n",
        "    def calculate_salary(self):\n",
        "        da, hra, ta = self.calculate_allowances()\n",
        "        pf, emi = self.calculate_deductions()\n",
        "        gross_salary = self.basic + da + hra + ta\n",
        "        net_salary = gross_salary - (pf + emi)\n",
        "        self.display_salary(gross_salary, net_salary)\n",
        "\n",
        "    def display_salary(self, gross, net):\n",
        "        print(f\"\\nEmployee Name   : {self.name}\")\n",
        "        print(f\"Basic Salary    : ₹{self.basic:.2f}\")\n",
        "        print(f\"Gross Salary    : ₹{gross:.2f}\")\n",
        "        print(f\"Net Salary      : ₹{net:.2f}\")\n",
        "        print(\"-\" * 30)\n",
        "num_employees = int(input(\"Enter number of employees: \"))\n",
        "\n",
        "for i in range(num_employees):\n",
        "    print(f\"\\nEmployee {i + 1}\")\n",
        "    name = input(\"Enter employee name: \")\n",
        "    basic_salary = float(input(\"Enter basic salary: ₹\"))\n",
        "\n",
        "    emp = SalaryCalculator(name, basic_salary)\n",
        "    emp.calculate_salary()\n"
      ],
      "metadata": {
        "colab": {
          "base_uri": "https://localhost:8080/"
        },
        "id": "Rvo-7Psix_qW",
        "outputId": "6143caec-877a-443c-b7f3-d3bc4c082f47"
      },
      "execution_count": 3,
      "outputs": [
        {
          "output_type": "stream",
          "name": "stdout",
          "text": [
            "Enter number of employees: 2\n",
            "\n",
            "Employee 1\n",
            "Enter employee name: Anisha\n",
            "Enter basic salary: ₹3000\n",
            "\n",
            "Employee Name   : Anisha\n",
            "Basic Salary    : ₹3000.00\n",
            "Gross Salary    : ₹4125.00\n",
            "Net Salary      : ₹3705.00\n",
            "------------------------------\n",
            "\n",
            "Employee 2\n",
            "Enter employee name: Pavithra\n",
            "Enter basic salary: ₹4000\n",
            "\n",
            "Employee Name   : Pavithra\n",
            "Basic Salary    : ₹4000.00\n",
            "Gross Salary    : ₹5500.00\n",
            "Net Salary      : ₹4940.00\n",
            "------------------------------\n"
          ]
        }
      ]
    }
  ]
}